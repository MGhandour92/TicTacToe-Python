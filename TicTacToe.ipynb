{
  "nbformat": 4,
  "nbformat_minor": 0,
  "metadata": {
    "kernelspec": {
      "display_name": "Python 3.7.1 64-bit",
      "language": "python",
      "name": "python37164bit1bb6e815eed54d26b52d6b5077fa5e48"
    },
    "language_info": {
      "codemirror_mode": {
        "name": "ipython",
        "version": 3
      },
      "file_extension": ".py",
      "mimetype": "text/x-python",
      "name": "python",
      "nbconvert_exporter": "python",
      "pygments_lexer": "ipython3",
      "version": "3.7.1-final"
    },
    "colab": {
      "name": "TicTacToe.ipynb",
      "provenance": []
    }
  },
  "cells": [
    {
      "cell_type": "markdown",
      "metadata": {
        "colab_type": "text",
        "id": "aAjb_hDyTKQh"
      },
      "source": [
        "# Tic Tac Toe Game \n",
        "##### Scratch Building\n",
        "##### No GUI Required "
      ]
    },
    {
      "cell_type": "markdown",
      "metadata": {
        "colab_type": "text",
        "id": "NG1KZg4sTKQj"
      },
      "source": [
        "#### Some suggested tools before you get started:\n",
        "To take input from a user:\n",
        "\n",
        "    player1 = input(\"Please pick a marker 'X' or 'O'\")\n",
        "    \n",
        "Note that input() takes in a string. If you need an integer value, use\n",
        "\n",
        "    position = int(input('Please enter a number'))\n",
        "    \n",
        "<br>To clear the screen between moves:\n",
        "\n",
        "    from IPython.display import clear_output\n",
        "    clear_output()\n",
        "    \n",
        "Note that clear_output() will only work in jupyter. To clear the screen in other IDEs, consider:\n",
        "\n",
        "    print('\\n'*100)\n",
        "    \n",
        "This scrolls the previous board up out of view. Now on to the program!"
      ]
    },
    {
      "cell_type": "markdown",
      "metadata": {
        "colab_type": "text",
        "id": "eq31aKoKTKQk"
      },
      "source": [
        "**Step 1: Write a function that can print out a board. Set up your board as a list, where each index 1-9 corresponds with a number on a number pad, so you get a 3 by 3 board representation.**"
      ]
    },
    {
      "cell_type": "code",
      "execution_count": 32,
      "metadata": {},
      "outputs": [],
      "source": [
        "from IPython.display import clear_output\n",
        "\n",
        "def displayEmpty_board():\n",
        "    board = ''\n",
        "    counter = 0\n",
        "\n",
        "    for i in range(-1, 6):\n",
        "\n",
        "        if i % 2 == 0:\n",
        "            board += '|      ' * 4\n",
        "            board += '\\n|  '+str(i+counter+1)+'   |  ' + \\\n",
        "                str(i+counter+2)+'   |   '+str(i+counter+3)+'  |'\n",
        "            counter += 1 if (i % 2 == 0) else 0\n",
        "        else:\n",
        "            board += ' _____ ' * 3\n",
        "\n",
        "        board += '\\n'\n",
        "    print(board)\n",
        "\n",
        "def display_board(boardInput):\n",
        "    clear_output()\n",
        "    board = ''\n",
        "    counter = 0\n",
        "\n",
        "    for i in range(-1, 6):\n",
        "        if i % 2 == 0:\n",
        "            board += '|      ' * 4\n",
        "            board += '\\n|  '+str(boardInput[i+counter])+'   |  ' + \\\n",
        "                str(boardInput[i+counter+1])+'   |   ' + \\\n",
        "                str(boardInput[i+counter+2])+'  |'\n",
        "\n",
        "            counter += 1 if (i % 2 == 0) else 0\n",
        "        else:\n",
        "            board += ' _____ ' * 3\n",
        "\n",
        "        board += '\\n'\n",
        "    print(board)"
      ]
    },
    {
      "cell_type": "markdown",
      "metadata": {
        "colab_type": "text",
        "id": "YE-nz_ETTKQo"
      },
      "source": [
        "**TEST Step 1:** run your function on a test version of the board list, and make adjustments as necessary"
      ]
    },
    {
      "cell_type": "code",
      "execution_count": 16,
      "metadata": {},
      "outputs": [
        {
          "name": "stdout",
          "output_type": "stream",
          "text": "_____  _____  _____ \n|      |      |      |      \n|  X   |  O   |   X  |\n _____  _____  _____ \n|      |      |      |      \n|  O   |  X   |   O  |\n _____  _____  _____ \n|      |      |      |      \n|  X   |  O   |   X  |\n _____  _____  _____ \n\n"
        }
      ],
      "source": [
        "test_board = ['X','O','X','O','X','O','X','O','X']\n",
        "display_board(test_board)"
      ]
    },
    {
      "cell_type": "markdown",
      "metadata": {
        "colab_type": "text",
        "id": "WxeUw0FhTKQr"
      },
      "source": [
        "**Step 2: Write a function that can take in a player input and assign their marker as 'X' or 'O'. Think about using *while* loops to continually ask until you get a correct answer.**"
      ]
    },
    {
      "cell_type": "code",
      "execution_count": 17,
      "metadata": {},
      "outputs": [],
      "source": [
        "\n",
        "def player_input():\n",
        "    player1 = input(\"Please pick a marker 'X' or 'O': \")\n",
        "    while(True):\n",
        "        if player1.upper() == 'X' or player1.upper() == 'O':\n",
        "            break\n",
        "        else:\n",
        "            player1 = input(\"Please pick a marker 'X' or 'O': \")\n",
        "    print('Player 1 marker is: ' + player1.upper()\n",
        "          + '\\nPlayer 2 marker is: ' + ('X' if player1.upper() == 'O' else 'O'))\n",
        "    return player1.upper()"
      ]
    },
    {
      "cell_type": "markdown",
      "metadata": {
        "colab_type": "text",
        "id": "6fVimbgzTKQu"
      },
      "source": [
        "**TEST Step 2:** run the function to make sure it returns the desired output"
      ]
    },
    {
      "cell_type": "code",
      "execution_count": 18,
      "metadata": {},
      "outputs": [
        {
          "name": "stdout",
          "output_type": "stream",
          "text": "Player 1 marker is: X\nPlayer 2 marker is: O\n"
        },
        {
          "data": {
            "text/plain": "'X'"
          },
          "execution_count": 18,
          "metadata": {},
          "output_type": "execute_result"
        }
      ],
      "source": [
        "player_input()"
      ]
    },
    {
      "cell_type": "markdown",
      "metadata": {
        "colab_type": "text",
        "id": "aQN1q9gGTKQw"
      },
      "source": [
        "**Step 3: Write a function that takes in the board list object, a marker ('X' or 'O'), and a desired position (number 1-9) and assigns it to the board.**"
      ]
    },
    {
      "cell_type": "code",
      "execution_count": 19,
      "metadata": {},
      "outputs": [],
      "source": [
        "def place_marker(boardInput, marker, position):\n",
        "    boardInput[position-1] = marker.upper()\n",
        "    return boardInput"
      ]
    },
    {
      "cell_type": "markdown",
      "metadata": {
        "colab_type": "text",
        "id": "gapk660ATKQz"
      },
      "source": [
        "**TEST Step 3:** run the place marker function using test parameters and display the modified board"
      ]
    },
    {
      "cell_type": "code",
      "execution_count": 20,
      "metadata": {},
      "outputs": [
        {
          "name": "stdout",
          "output_type": "stream",
          "text": "_____  _____  _____ \n|      |      |      |      \n|  X   |  O   |   X  |\n _____  _____  _____ \n|      |      |      |      \n|  O   |  X   |   O  |\n _____  _____  _____ \n|      |      |      |      \n|  X   |  $   |   X  |\n _____  _____  _____ \n\n"
        }
      ],
      "source": [
        "place_marker(test_board,'$',8)\n",
        "display_board(test_board)"
      ]
    },
    {
      "cell_type": "markdown",
      "metadata": {
        "colab_type": "text",
        "id": "vRuvrYsVTKQ2"
      },
      "source": [
        "**Step 4: Write a function that takes in a board and a mark (X or O) and then checks to see if that mark has won. **"
      ]
    },
    {
      "cell_type": "code",
      "execution_count": 21,
      "metadata": {},
      "outputs": [],
      "source": [
        "def win_check(board, mark):\n",
        "    board = [x.upper() for x in board]\n",
        "    mark = mark.upper()\n",
        "\n",
        "    return (board[0] == board[1] == board[2] == mark or\n",
        "            board[3] == board[4] == board[5] == mark or\n",
        "            board[6] == board[7] == board[8] == mark or\n",
        "            board[0] == board[3] == board[6] == mark or\n",
        "            board[1] == board[4] == board[7] == mark or\n",
        "            board[2] == board[5] == board[8] == mark or\n",
        "            board[0] == board[4] == board[8] == mark or\n",
        "            board[2] == board[4] == board[6] == mark)"
      ]
    },
    {
      "cell_type": "markdown",
      "metadata": {
        "colab_type": "text",
        "id": "D9tY6vCHTKQ4"
      },
      "source": [
        "**TEST Step 4:** run the win_check function against our test_board - it should return True"
      ]
    },
    {
      "cell_type": "code",
      "execution_count": 22,
      "metadata": {},
      "outputs": [
        {
          "data": {
            "text/plain": "True"
          },
          "execution_count": 22,
          "metadata": {},
          "output_type": "execute_result"
        }
      ],
      "source": [
        "win_check(test_board,'X')"
      ]
    },
    {
      "cell_type": "markdown",
      "metadata": {
        "colab_type": "text",
        "id": "ROj56ItpTKQ7"
      },
      "source": [
        "**Step 5: Write a function that uses the random module to randomly decide which player goes first. You may want to lookup random.randint() Return a string of which player went first.**"
      ]
    },
    {
      "cell_type": "code",
      "execution_count": 23,
      "metadata": {},
      "outputs": [],
      "source": [
        "from random import randint\n",
        "\n",
        "def choose_first():\n",
        "    # 0 is x and 1 is o\n",
        "    value = randint(0, 1)\n",
        "    return 'X' if value == 0 else 'O'"
      ]
    },
    {
      "cell_type": "markdown",
      "metadata": {
        "colab_type": "text",
        "id": "7H1uXKU-TKQ9"
      },
      "source": [
        "**Step 6: Write a function that returns a boolean indicating whether a space on the board is freely available.**"
      ]
    },
    {
      "cell_type": "code",
      "execution_count": 27,
      "metadata": {},
      "outputs": [],
      "source": [
        "def space_check(board, position):\n",
        "    return board[position-1] == \" \""
      ]
    },
    {
      "cell_type": "markdown",
      "metadata": {
        "colab_type": "text",
        "id": "TKfVJE_KTKRA"
      },
      "source": [
        "**Step 7: Write a function that checks if the board is full and returns a boolean value. True if full, False otherwise.**"
      ]
    },
    {
      "cell_type": "code",
      "execution_count": 24,
      "metadata": {},
      "outputs": [],
      "source": [
        "def full_board_check(board):\n",
        "    return ' ' not in board"
      ]
    },
    {
      "cell_type": "markdown",
      "metadata": {
        "colab_type": "text",
        "id": "ju-R3rRATKRD"
      },
      "source": [
        "**Step 8: Write a function that asks for a player's next position (as a number 1-9) and then uses the function from step 6 to check if it's a free position. If it is, then return the position for later use.**"
      ]
    },
    {
      "cell_type": "code",
      "execution_count": 25,
      "metadata": {},
      "outputs": [],
      "source": [
        "\n",
        "def player_choice(board):\n",
        "    pChoice = input(\"Please pick box number: \")\n",
        "\n",
        "    lOfStrings = [str(x) for x in list(range(1, 10))]\n",
        "\n",
        "    while pChoice not in lOfStrings or space_check(board, int(pChoice)) == False:\n",
        "        pChoice = input(\"Please pick box number: \")\n",
        "    return int(pChoice)"
      ]
    },
    {
      "cell_type": "markdown",
      "metadata": {
        "colab_type": "text",
        "id": "E9ryWxTdTKRG"
      },
      "source": [
        "**Step 9: Write a function that asks the player if they want to play again and returns a boolean True if they do want to play again.**"
      ]
    },
    {
      "cell_type": "code",
      "execution_count": 26,
      "metadata": {},
      "outputs": [],
      "source": [
        "\n",
        "def replay():\n",
        "    replayGame = input('Do you want to replay? Enter Y or N: ')\n",
        "    while (True):\n",
        "        if replayGame.upper() == 'Y':\n",
        "            return True\n",
        "        elif replayGame.upper() == 'N':\n",
        "            return False\n",
        "        else:\n",
        "            replayGame = input('Do you want to replay? Enter Y or N')\n",
        "\n"
      ]
    },
    {
      "cell_type": "markdown",
      "metadata": {
        "colab_type": "text",
        "collapsed": true,
        "id": "gjLdHz0MTKRI"
      },
      "source": [
        "**Step 10: Here comes the hard part! Use while loops and the functions you've made to run the game!**"
      ]
    },
    {
      "cell_type": "code",
      "execution_count": 33,
      "metadata": {},
      "outputs": [
        {
          "name": "stdout",
          "output_type": "stream",
          "text": "_____  _____  _____ \n|      |      |      |      \n|  O   |  X   |      |\n _____  _____  _____ \n|      |      |      |      \n|  O   |  X   |   O  |\n _____  _____  _____ \n|      |      |      |      \n|  X   |  X   |   O  |\n _____  _____  _____ \n\nPlayer 1[X] has won\n"
        }
      ],
      "source": [
        "def fullGame():\n",
        "    #print('\\n'*100)\n",
        "    print('Welcome to Tic Tac Toe!')\n",
        "\n",
        "    while True:\n",
        "        board = [' ', ' ', ' ', ' ', ' ', ' ', ' ', ' ', ' ']\n",
        "        displayEmpty_board()  # numbered board\n",
        "        player1Marker = player_input()  # choose x or o\n",
        "\n",
        "        turn = choose_first()  # who is first x or o\n",
        "        game_on = True\n",
        "\n",
        "        while game_on:\n",
        "            whoPlayer = ''\n",
        "            if player1Marker == turn:  # Player 1 Turn\n",
        "                print('Player 1 turn [' + player1Marker + ']')\n",
        "                whoPlayer = 'Player 1'\n",
        "            else:  # Player2's turn.\n",
        "                print('Player 2 turn [' + turn + ']')\n",
        "                whoPlayer = 'Player 2'\n",
        "\n",
        "            pChoice = player_choice(board)  # take input from player\n",
        "            # place the marker who has the current turn\n",
        "            board = place_marker(board, turn, pChoice)\n",
        "\n",
        "            display_board(board)\n",
        "\n",
        "            if win_check(board, turn):\n",
        "                game_on = False\n",
        "                print(whoPlayer + '[' + turn + '] has won')\n",
        "                break\n",
        "\n",
        "            turn = 'X' if turn == 'O' else 'O'\n",
        "\n",
        "            if full_board_check(board):\n",
        "                game_on = False\n",
        "                print('The game ended with Tie')\n",
        "                break\n",
        "\n",
        "        if not replay():\n",
        "            game_on = True\n",
        "            break\n",
        "\n",
        "\n",
        "fullGame()"
      ]
    },
    {
      "cell_type": "markdown",
      "metadata": {
        "colab_type": "text",
        "collapsed": true,
        "id": "V3AlA00FTKRL"
      },
      "source": [
        "## Good Job!"
      ]
    }
  ]
}